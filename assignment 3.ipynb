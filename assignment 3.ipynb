{
 "cells": [
  {
   "cell_type": "code",
   "execution_count": 10,
   "id": "0fa92aff-fdc9-405b-9ebe-a65e9c0e3183",
   "metadata": {},
   "outputs": [
    {
     "name": "stdout",
     "output_type": "stream",
     "text": [
      "odd numbers are -  [1, 3, 5, 7, 9, 11, 13, 15, 17, 19, 21, 23, 25, 27, 29, 31, 33, 35, 37, 39, 41, 43, 45, 47, 49, 51, 53, 55]\n"
     ]
    }
   ],
   "source": [
    "'''Q1. Which keyword is used to create a function? Create a function to return a list of odd numbers in the\n",
    "range of 1 to 25\n",
    "ans -  def keyword is used to create a function.'''\n",
    "\n",
    "def odd(x): \n",
    "    odd_1 = []\n",
    "    for i in range(x):\n",
    "        if i % 2 == 1:\n",
    "            odd_1.append(i)\n",
    "    return odd_1\n",
    "x = 56\n",
    "\n",
    "print(\"odd numbers are - \", odd(x))"
   ]
  },
  {
   "cell_type": "code",
   "execution_count": 19,
   "id": "aebc8c90-d5bb-408e-99c4-04dc33f21404",
   "metadata": {},
   "outputs": [],
   "source": [
    "'''Q2. Why *args and **kwargs is used in some functions? Create a function each for *args and **kwargs\n",
    "to demonstrate their use.\n",
    "ans - *args is used to pass any number of parameter entered by the users and **kwargs is used to pass dictionary parameter'''\n",
    "\n",
    "def test1(*args, a):\n",
    "    return args, a"
   ]
  },
  {
   "cell_type": "code",
   "execution_count": 20,
   "id": "9da3f6eb-a907-4e74-8c2e-a7cb263a3b53",
   "metadata": {},
   "outputs": [
    {
     "data": {
      "text/plain": [
       "((3, 4, 5, 6), 2)"
      ]
     },
     "execution_count": 20,
     "metadata": {},
     "output_type": "execute_result"
    }
   ],
   "source": [
    "test1(3,4,5,6,a=2)"
   ]
  },
  {
   "cell_type": "code",
   "execution_count": 21,
   "id": "c33a498a-a6fc-4ab9-9bad-82e1b6c92dcc",
   "metadata": {},
   "outputs": [],
   "source": [
    "def test2(**kwargs):\n",
    "    return kwargs"
   ]
  },
  {
   "cell_type": "code",
   "execution_count": 28,
   "id": "e91a9ca1-e2d5-428c-990b-7c3c25ab98e3",
   "metadata": {},
   "outputs": [
    {
     "data": {
      "text/plain": [
       "{'int': 2, 'str': 'himani'}"
      ]
     },
     "execution_count": 28,
     "metadata": {},
     "output_type": "execute_result"
    }
   ],
   "source": [
    "test2(int=2, str =\"himani\")"
   ]
  },
  {
   "cell_type": "code",
   "execution_count": 25,
   "id": "48b81ece-4a84-478d-ae79-9a201c06e4c6",
   "metadata": {},
   "outputs": [
    {
     "data": {
      "text/plain": [
       "dict"
      ]
     },
     "execution_count": 25,
     "metadata": {},
     "output_type": "execute_result"
    }
   ],
   "source": [
    "type(test2())"
   ]
  },
  {
   "cell_type": "code",
   "execution_count": 29,
   "id": "6c6b2ffd-de7d-49aa-b4f0-8e094641c874",
   "metadata": {},
   "outputs": [],
   "source": [
    "'''Q3. What is an iterator in python? Name the method used to initialise the iterator object and the method\n",
    "used for iteration. Use these methods to print the first five elements of the given list [2, 4, 6, 8, 10, 12, 14,\n",
    "16, 18, 20].'''\n",
    "'''An iterator is an object that contains a countable number of value. iter function is used for iteration'''\n",
    "\n",
    "l = [2, 4, 6, 8, 10, 12, 14,16, 18, 20]\n",
    "l1= iter(l)"
   ]
  },
  {
   "cell_type": "code",
   "execution_count": 30,
   "id": "10704fc4-388c-4e14-a09c-1c7717c3e477",
   "metadata": {},
   "outputs": [
    {
     "data": {
      "text/plain": [
       "2"
      ]
     },
     "execution_count": 30,
     "metadata": {},
     "output_type": "execute_result"
    }
   ],
   "source": [
    "next(l1)"
   ]
  },
  {
   "cell_type": "code",
   "execution_count": 31,
   "id": "d064264d-8a57-48d1-a4ff-c5ce0be6f755",
   "metadata": {},
   "outputs": [
    {
     "data": {
      "text/plain": [
       "4"
      ]
     },
     "execution_count": 31,
     "metadata": {},
     "output_type": "execute_result"
    }
   ],
   "source": [
    "next(l1)"
   ]
  },
  {
   "cell_type": "code",
   "execution_count": 32,
   "id": "36dceb93-e407-4fd3-ab9f-1b9be6b74f4f",
   "metadata": {},
   "outputs": [
    {
     "data": {
      "text/plain": [
       "6"
      ]
     },
     "execution_count": 32,
     "metadata": {},
     "output_type": "execute_result"
    }
   ],
   "source": [
    "next(l1)"
   ]
  },
  {
   "cell_type": "code",
   "execution_count": 33,
   "id": "c484b428-ad78-47f4-8230-b69908f1c589",
   "metadata": {},
   "outputs": [
    {
     "data": {
      "text/plain": [
       "8"
      ]
     },
     "execution_count": 33,
     "metadata": {},
     "output_type": "execute_result"
    }
   ],
   "source": [
    "next(l1)"
   ]
  },
  {
   "cell_type": "code",
   "execution_count": 34,
   "id": "63e3d7bb-622b-44d6-ab53-b5ea4f841060",
   "metadata": {},
   "outputs": [
    {
     "data": {
      "text/plain": [
       "10"
      ]
     },
     "execution_count": 34,
     "metadata": {},
     "output_type": "execute_result"
    }
   ],
   "source": [
    "next(l1)"
   ]
  },
  {
   "cell_type": "code",
   "execution_count": 40,
   "id": "8e972a4c-9dc4-48bb-b3c9-6c6f17a1c874",
   "metadata": {},
   "outputs": [],
   "source": [
    "'''Q4. What is a generator function in python? Why yield keyword is used? Give an example of a generator\n",
    "function.'''\n",
    "'''- generator function is like normal function. We use def keyword to make generator function.Instead of return ,\n",
    "we use 'yield' keyword. When we don't want to store the values in memory at once , we use generator function'''\n",
    "\n",
    "def fib(n):\n",
    "    a,b=0,1\n",
    "    for i in range(n):\n",
    "        yield a\n",
    "        a,b = b, a+b       \n",
    "        \n",
    "        "
   ]
  },
  {
   "cell_type": "code",
   "execution_count": 41,
   "id": "f6d2300c-af60-4c5f-b830-dd6399e54ad5",
   "metadata": {},
   "outputs": [
    {
     "data": {
      "text/plain": [
       "<generator object fib at 0x7f9cc4a44ac0>"
      ]
     },
     "execution_count": 41,
     "metadata": {},
     "output_type": "execute_result"
    }
   ],
   "source": [
    "fib(11)"
   ]
  },
  {
   "cell_type": "code",
   "execution_count": 42,
   "id": "58484fbe-334c-4167-a9f6-541b27bc726d",
   "metadata": {},
   "outputs": [
    {
     "name": "stdout",
     "output_type": "stream",
     "text": [
      "0\n",
      "1\n",
      "1\n",
      "2\n",
      "3\n",
      "5\n",
      "8\n",
      "13\n",
      "21\n",
      "34\n",
      "55\n"
     ]
    }
   ],
   "source": [
    "for i in fib(11):\n",
    "    print(i)"
   ]
  },
  {
   "cell_type": "code",
   "execution_count": 48,
   "id": "6f6b6b70-cf99-4766-84d7-ca5785c14c81",
   "metadata": {},
   "outputs": [],
   "source": [
    "'''Q5. Create a generator function for prime numbers less than 1000. Use the next() method to print the\n",
    "first 20 prime numbers.'''\n",
    "\n",
    "def prime(n):\n",
    "    if n>1:\n",
    "        for i in range(2,1000):\n",
    "            if n % i == 0:\n",
    "                return False\n",
    "        return True\n",
    "    return False"
   ]
  },
  {
   "cell_type": "code",
   "execution_count": 53,
   "id": "b956ec8d-8941-4d8f-8df8-02b2ae36b6d4",
   "metadata": {},
   "outputs": [
    {
     "data": {
      "text/plain": [
       "False"
      ]
     },
     "execution_count": 53,
     "metadata": {},
     "output_type": "execute_result"
    }
   ],
   "source": [
    "prime(8)"
   ]
  },
  {
   "cell_type": "code",
   "execution_count": 69,
   "id": "48884781-5e23-4fcd-90fc-f859a80a391a",
   "metadata": {},
   "outputs": [
    {
     "name": "stdout",
     "output_type": "stream",
     "text": [
      "0 1 1 2 3 5 8 13 21 34 "
     ]
    }
   ],
   "source": [
    "'''Q6.Write a python program to print the first 10 Fibonacci numbers using a while loop.'''\n",
    "\n",
    "a , b = 0, 1 \n",
    "n = 10\n",
    "print( a, b , end = ' ')\n",
    "\n",
    "i = 0\n",
    "\n",
    "while(i <n-2):\n",
    "    c = a+b\n",
    "    print(c, end = ' ')\n",
    "    a=b\n",
    "    b=c\n",
    "    i = i+1\n",
    "    "
   ]
  },
  {
   "cell_type": "code",
   "execution_count": 70,
   "id": "f8cc923c-47b1-4523-aade-5a108f57dcf5",
   "metadata": {},
   "outputs": [
    {
     "data": {
      "text/plain": [
       "['p', 'w', 's', 'k', 'i', 'l', 'l', 's']"
      ]
     },
     "execution_count": 70,
     "metadata": {},
     "output_type": "execute_result"
    }
   ],
   "source": [
    "'''Q7. Write a List Comprehension to iterate through the given string: ‘pwskills’.\n",
    "Expected output: ['p', 'w', 's', 'k', 'i', 'l', 'l', 's']'''\n",
    "\n",
    "s = \"pwskills\"\n",
    "\n",
    "list(map(lambda s:s, s))"
   ]
  },
  {
   "cell_type": "code",
   "execution_count": 85,
   "id": "9610eea2-a92d-4235-bb36-9b70a3e4c091",
   "metadata": {},
   "outputs": [
    {
     "name": "stdin",
     "output_type": "stream",
     "text": [
      "enter any number-  345\n"
     ]
    },
    {
     "name": "stdout",
     "output_type": "stream",
     "text": [
      "no it is not palindrome\n",
      "no it is not palindrome\n",
      "no it is not palindrome\n"
     ]
    }
   ],
   "source": [
    "'''Q8. Write a python program to check whether a given number is Palindrome or not using a while loop.'''\n",
    "\n",
    "n = int(input(\"enter any number- \"))\n",
    "temp = n\n",
    "reversed = 0\n",
    "while temp>0:\n",
    "    remainder = temp % 10\n",
    "    temp = temp // 10\n",
    "    reversed = reversed*10 + remainder\n",
    "    if (temp == reversed):\n",
    "        print(\"yes it is palindrome\")\n",
    "    else:\n",
    "        print(\"no it is not palindrome\")\n",
    "    \n"
   ]
  },
  {
   "cell_type": "code",
   "execution_count": 76,
   "id": "0cf9b850-56b7-4750-92c0-155ffbea2e01",
   "metadata": {},
   "outputs": [
    {
     "data": {
      "text/plain": [
       "[0,\n",
       " 1,\n",
       " 2,\n",
       " 3,\n",
       " 4,\n",
       " 5,\n",
       " 6,\n",
       " 7,\n",
       " 8,\n",
       " 9,\n",
       " 10,\n",
       " 11,\n",
       " 12,\n",
       " 13,\n",
       " 14,\n",
       " 15,\n",
       " 16,\n",
       " 17,\n",
       " 18,\n",
       " 19,\n",
       " 20,\n",
       " 21,\n",
       " 22,\n",
       " 23,\n",
       " 24,\n",
       " 25,\n",
       " 26,\n",
       " 27,\n",
       " 28,\n",
       " 29,\n",
       " 30,\n",
       " 31,\n",
       " 32,\n",
       " 33,\n",
       " 34,\n",
       " 35,\n",
       " 36,\n",
       " 37,\n",
       " 38,\n",
       " 39,\n",
       " 40,\n",
       " 41,\n",
       " 42,\n",
       " 43,\n",
       " 44,\n",
       " 45,\n",
       " 46,\n",
       " 47,\n",
       " 48,\n",
       " 49,\n",
       " 50,\n",
       " 51,\n",
       " 52,\n",
       " 53,\n",
       " 54,\n",
       " 55,\n",
       " 56,\n",
       " 57,\n",
       " 58,\n",
       " 59,\n",
       " 60,\n",
       " 61,\n",
       " 62,\n",
       " 63,\n",
       " 64,\n",
       " 65,\n",
       " 66,\n",
       " 67,\n",
       " 68,\n",
       " 69,\n",
       " 70,\n",
       " 71,\n",
       " 72,\n",
       " 73,\n",
       " 74,\n",
       " 75,\n",
       " 76,\n",
       " 77,\n",
       " 78,\n",
       " 79,\n",
       " 80,\n",
       " 81,\n",
       " 82,\n",
       " 83,\n",
       " 84,\n",
       " 85,\n",
       " 86,\n",
       " 87,\n",
       " 88,\n",
       " 89,\n",
       " 90,\n",
       " 91,\n",
       " 92,\n",
       " 93,\n",
       " 94,\n",
       " 95,\n",
       " 96,\n",
       " 97,\n",
       " 98,\n",
       " 99]"
      ]
     },
     "execution_count": 76,
     "metadata": {},
     "output_type": "execute_result"
    }
   ],
   "source": [
    "'''Q9. Write a code to print odd numbers from 1 to 100 using list comprehension.'''\n",
    "'''Note: Use a list comprehension to create a list from 1 to 100 and use another List comprehension to filter\n",
    "out odd numbers.'''\n",
    "\n",
    "list(range(0,100))"
   ]
  },
  {
   "cell_type": "code",
   "execution_count": 79,
   "id": "ffcb7f8f-de22-4474-85c5-8c55f4954219",
   "metadata": {},
   "outputs": [
    {
     "data": {
      "text/plain": [
       "[1,\n",
       " 3,\n",
       " 5,\n",
       " 7,\n",
       " 9,\n",
       " 11,\n",
       " 13,\n",
       " 15,\n",
       " 17,\n",
       " 19,\n",
       " 21,\n",
       " 23,\n",
       " 25,\n",
       " 27,\n",
       " 29,\n",
       " 31,\n",
       " 33,\n",
       " 35,\n",
       " 37,\n",
       " 39,\n",
       " 41,\n",
       " 43,\n",
       " 45,\n",
       " 47,\n",
       " 49,\n",
       " 51,\n",
       " 53,\n",
       " 55,\n",
       " 57,\n",
       " 59,\n",
       " 61,\n",
       " 63,\n",
       " 65,\n",
       " 67,\n",
       " 69,\n",
       " 71,\n",
       " 73,\n",
       " 75,\n",
       " 77,\n",
       " 79,\n",
       " 81,\n",
       " 83,\n",
       " 85,\n",
       " 87,\n",
       " 89,\n",
       " 91,\n",
       " 93,\n",
       " 95,\n",
       " 97,\n",
       " 99]"
      ]
     },
     "execution_count": 79,
     "metadata": {},
     "output_type": "execute_result"
    }
   ],
   "source": [
    "list(filter(lambda a : a%2==1 , range(0,100)))"
   ]
  },
  {
   "cell_type": "code",
   "execution_count": null,
   "id": "e83565e5-8ff6-4651-84bc-b04fe0b762d1",
   "metadata": {},
   "outputs": [],
   "source": []
  }
 ],
 "metadata": {
  "kernelspec": {
   "display_name": "Python 3 (ipykernel)",
   "language": "python",
   "name": "python3"
  },
  "language_info": {
   "codemirror_mode": {
    "name": "ipython",
    "version": 3
   },
   "file_extension": ".py",
   "mimetype": "text/x-python",
   "name": "python",
   "nbconvert_exporter": "python",
   "pygments_lexer": "ipython3",
   "version": "3.10.8"
  }
 },
 "nbformat": 4,
 "nbformat_minor": 5
}
